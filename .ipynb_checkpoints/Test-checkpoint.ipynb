{
 "cells": [
  {
   "cell_type": "code",
   "execution_count": 1,
   "id": "4dea00ca",
   "metadata": {},
   "outputs": [],
   "source": [
    "import pandas as pd\n",
    "import numpy as np\n",
    "import json\n",
    "import pickle\n",
    "import keras\n",
    "import tensorflow as tf\n",
    "\n",
    "import psycopg2\n",
    "import sqlalchemy\n",
    "from sqlalchemy import create_engine\n",
    "\n",
    "from datetime import datetime, date"
   ]
  },
  {
   "cell_type": "code",
   "execution_count": 2,
   "id": "114e038f",
   "metadata": {},
   "outputs": [
    {
     "name": "stdout",
     "output_type": "stream",
     "text": [
      "PostgreSQL connection is closed\n"
     ]
    }
   ],
   "source": [
    "# Get last row\n",
    "try:\n",
    "    con = psycopg2.connect(user=\"postgres\",\n",
    "                          password=\"12345\",\n",
    "                          host=\"127.0.0.1\",\n",
    "                          port=\"5432\",\n",
    "                          database= 'efishery')\n",
    "    cur = con.cursor()\n",
    "\n",
    "\n",
    "    qdataset = \"SELECT sepal_length,sepal_width,petal_length,petal_width FROM iris ORDER BY id\"\n",
    "    qid = \"SELECT id FROM iris ORDER BY id\"\n",
    "    cur.execute(qdataset)\n",
    "    data = cur.fetchall()\n",
    "    \n",
    "    dataset = []\n",
    "    for d in data:\n",
    "        dataset.append(d)\n",
    "        \n",
    "    cur.execute(qid)\n",
    "    ids = cur.fetchall()\n",
    "    \n",
    "    idlist = []\n",
    "    for i in ids:\n",
    "        idlist.append(i)\n",
    "    \n",
    "    dataset = np.asarray(dataset,dtype='float')\n",
    "    #idlist = np.asarray(idlist,dtype='int')\n",
    "\n",
    "except (Exception, psycopg2.Error) as error :\n",
    "    print (\"Error while fetching data from PostgreSQL\", error)\n",
    "\n",
    "finally:\n",
    "    #closing database connection.\n",
    "    if(con):\n",
    "        cur.close()\n",
    "        con.close()\n",
    "        print(\"PostgreSQL connection is closed\")"
   ]
  },
  {
   "cell_type": "code",
   "execution_count": 4,
   "id": "f43ab8da",
   "metadata": {},
   "outputs": [],
   "source": [
    "# follows django database settings format, replace with your own settings\n",
    "DATABASES = {\n",
    "    'production':{\n",
    "        'NAME': 'efishery',\n",
    "        'USER': 'postgres',\n",
    "        'PASSWORD': '12345',\n",
    "        'HOST': '127.0.0.1',\n",
    "        'PORT': '5432',\n",
    "    },\n",
    "}\n",
    "\n",
    "# choose the database to use\n",
    "db = DATABASES['production']\n",
    "\n",
    "# construct an engine connection string\n",
    "engine_string = \"postgresql+psycopg2://{user}:{password}@{host}:{port}/{database}\".format(\n",
    "    user = db['USER'],\n",
    "    password = db['PASSWORD'],\n",
    "    host = db['HOST'],\n",
    "    port = db['PORT'],\n",
    "    database = db['NAME'],\n",
    ")\n",
    "\n",
    "# create sqlalchemy engine\n",
    "engine = create_engine(engine_string)\n",
    "\n",
    "# read a table from database into pandas dataframe, replace \"tablename\" with your table name\n",
    "df = pd.read_sql_table('iris',engine).drop(['id'], axis=1)"
   ]
  },
  {
   "cell_type": "code",
   "execution_count": 5,
   "id": "07b1f740",
   "metadata": {},
   "outputs": [
    {
     "name": "stdout",
     "output_type": "stream",
     "text": [
      "2.9.0\n"
     ]
    }
   ],
   "source": [
    "print(keras.__version__)"
   ]
  },
  {
   "cell_type": "code",
   "execution_count": 6,
   "id": "305bdf69",
   "metadata": {},
   "outputs": [],
   "source": [
    "#model = pickle.load(open('ann_model.pickle', 'rb'))\n",
    "model = tf.keras.models.load_model('ann_model.h5')"
   ]
  },
  {
   "cell_type": "code",
   "execution_count": 97,
   "id": "90110461",
   "metadata": {},
   "outputs": [
    {
     "name": "stdout",
     "output_type": "stream",
     "text": [
      "1/1 [==============================] - 0s 31ms/step\n",
      "1/1 [==============================] - 0s 9ms/step\n"
     ]
    }
   ],
   "source": [
    "# Predicting the Test set results\n",
    "y_pred = model.predict(dataset)\n",
    "y_pred = (y_pred > 0.5)\n",
    "\n",
    "prediction=model.predict(dataset)\n",
    "length=len(prediction)\n",
    "predict_label=np.argmax(prediction,axis=1)"
   ]
  },
  {
   "cell_type": "code",
   "execution_count": 96,
   "id": "9f8d214c",
   "metadata": {},
   "outputs": [],
   "source": [
    "id_list = [item for sublist in idlist for item in sublist]"
   ]
  },
  {
   "cell_type": "code",
   "execution_count": 79,
   "id": "7de706ab",
   "metadata": {},
   "outputs": [],
   "source": [
    "label = predict_label.tolist()"
   ]
  },
  {
   "cell_type": "code",
   "execution_count": 98,
   "id": "25a463ac",
   "metadata": {},
   "outputs": [
    {
     "name": "stdout",
     "output_type": "stream",
     "text": [
      "PostgreSQL connection is closed\n"
     ]
    }
   ],
   "source": [
    "dt_time = datetime.now()\n",
    "dt_date = date.today()\n",
    "\n",
    "q = \"\"\" INSERT INTO hasil (\n",
    "        tanggal,waktu,id_iris,class ) \n",
    "        VALUES (%s,%s,%s,%s)           \n",
    "    \"\"\"\n",
    "\n",
    "values = [] \n",
    "for i in range (0, len(label)):\n",
    "    values.append((\n",
    "        dt_date,\n",
    "        dt_time,\n",
    "        id_list[i],\n",
    "        label[i]\n",
    "        )) #append data\n",
    "\n",
    "try:\n",
    "    con = psycopg2.connect(user=\"postgres\",\n",
    "                          password=\"12345\",\n",
    "                          host=\"127.0.0.1\",\n",
    "                          port=\"5432\",\n",
    "                          database=\"efishery\")\n",
    "\n",
    "    cur = con.cursor()\n",
    "\n",
    "    # save table prediksi ke db as json\n",
    "    cur.executemany(q,values)\n",
    "\n",
    "    # Make the changes to the database persistant\n",
    "    con.commit()\n",
    "\n",
    "\n",
    "except (Exception, psycopg2.Error) as error :\n",
    "    print (\"Error while saving data from PostgreSQL\", error)\n",
    "\n",
    "finally:\n",
    "    #closing database connection.\n",
    "    if(con):\n",
    "        cur.close()\n",
    "        print(\"PostgreSQL connection is closed\")"
   ]
  },
  {
   "cell_type": "code",
   "execution_count": null,
   "id": "f66b4d6f",
   "metadata": {},
   "outputs": [],
   "source": []
  }
 ],
 "metadata": {
  "kernelspec": {
   "display_name": "Python 3 (ipykernel)",
   "language": "python",
   "name": "python3"
  },
  "language_info": {
   "codemirror_mode": {
    "name": "ipython",
    "version": 3
   },
   "file_extension": ".py",
   "mimetype": "text/x-python",
   "name": "python",
   "nbconvert_exporter": "python",
   "pygments_lexer": "ipython3",
   "version": "3.8.12"
  }
 },
 "nbformat": 4,
 "nbformat_minor": 5
}
